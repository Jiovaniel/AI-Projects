{
 "cells": [
  {
   "cell_type": "markdown",
   "id": "6858eec2",
   "metadata": {},
   "source": [
    "<center>\n",
    "    <h1>Algoritmos de Búsqueda</h1>\n",
    "    <center><h5>Jiovaniel O. Soto González</h5></center>\n",
    "    <center><h5>Juan C. Fontánez Castro</h5></center>\n",
    "    <center><h5>Emmanuel A. Morales Martínez</h5></center>\n",
    "</center>\n"
   ]
  },
  {
   "cell_type": "markdown",
   "id": "b17822d3",
   "metadata": {},
   "source": [
    "# Propósito"
   ]
  },
  {
   "cell_type": "markdown",
   "id": "90dd37c7",
   "metadata": {},
   "source": [
    "- El objetivo de este experimento es realizar un análisis exhaustivo de diversos algoritmos de búsqueda en función de su eficiencia en diferentes entornos y situaciones. El propósito principal es demostrar cómo estos algoritmos se desempeñan en una variedad de contextos, lo que incluye evaluar su velocidad, precisión y capacidad para encontrar soluciones óptimas o cercanas a la óptima. Este estudio busca proporcionar una comprensión más profunda de las fortalezas y limitaciones de cada algoritmo de búsqueda."
   ]
  },
  {
   "cell_type": "markdown",
   "id": "d7fe0314",
   "metadata": {},
   "source": [
    "# Hipótesis"
   ]
  },
  {
   "cell_type": "markdown",
   "id": "c6392ce5",
   "metadata": {},
   "source": [
    "- Se espera que el algoritmo de búsqueda en anchura sobresalga debido a su capacidad para explorar todos los nodos de un mismo nivel antes de avanzar al siguiente nivel, lo que puede llevar a la identificación rápida de soluciones óptimas o cercanas a la óptima en ciertos escenarios."
   ]
  },
  {
   "cell_type": "markdown",
   "id": "b14b070d",
   "metadata": {},
   "source": [
    "# Conceptos e información recopilada"
   ]
  },
  {
   "cell_type": "markdown",
   "id": "69d52173",
   "metadata": {},
   "source": [
    "- Para los conceptos e información se buscaron recursos para definir los conceptos de algoritmos de búsqueda, incluyendo lo estudiado en clase.\n",
    "\n",
    "- - Búsqueda en Anchura (BFS) - Recorre los nodos de un grafo, eligiendo algún nodo como elemento, para luego explorar todos los vecinos de este nodo.[1]\n",
    "\n",
    "- - Búsqueda en Profundidad (DFS) - Recorre los nodos de un grafo, desde el nodo padre hacia el nodo hijo.[1]\n",
    "\n",
    "- - Algoritmo “A*” - Busca el camino más corto desde un estado inicial al estado meta a través de un espacio de problema, usando una heurística óptima[2]\n",
    "\n",
    "- - Algoritmo “Hill Climbing” - Sigue la dirección de ascenso/descenso más empinada a partir de su posición.[3]\n",
    "\n",
    "- - Punto - Es una figura geométrica dimensional: no tiene longitud, area y volumen.[4]\n",
    "\n",
    "- - Vértice - Punto de una figura geométrica donde se unen dos o más elementos unidimensionales.[5]\n",
    "\n",
    "- - Plano - Representación gráfica de un objeto o área en una superficie bidimensional.[6]\n",
    "\n",
    "- - Polígono - Figura geométrica plana, compuesta por un conjunto de segmentos de recta conectados de manera tal que encierren y delimitan una región del plano, generalmente sin cruzarse una línea con otra.[7]\n",
    "\n",
    "- - Linea recta - Sucesión indefinida y continua de puntos.[8]"
   ]
  },
  {
   "cell_type": "markdown",
   "id": "00fc71c8",
   "metadata": {},
   "source": [
    "# ¿Cómo se configuró el experimento?"
   ]
  },
  {
   "cell_type": "markdown",
   "id": "67a05d7e",
   "metadata": {},
   "source": [
    "#### C)"
   ]
  },
  {
   "cell_type": "markdown",
   "id": "490254f5",
   "metadata": {},
   "source": [
    "- Para el primer problema, se configuró un entorno similar al presentado en el texto del curso en el cual se definieron varios polígonos en un plano de dos dimensiones con un punto de partida y un punto de meta, con la intención de que los algoritmos de búsqueda evitaran los obstáculos obteniento el recorrido más eficiente según sus parámetros."
   ]
  },
  {
   "cell_type": "code",
   "execution_count": 5,
   "id": "58378b95",
   "metadata": {},
   "outputs": [],
   "source": [
    "# Start and goal points\n",
    "start = (33, 107)\n",
    "goal = (292, 3)\n",
    "\n",
    "# Define polygonal obstacles as lists of vertices\n",
    "polygon1 = [(35, 90), (104, 90), (104, 120), (35, 120)]\n",
    "polygon2 = [(59, 5), (82, 45), (63, 94), (32, 82), (26, 45)]\n",
    "polygon3 = [(96, 36), (111, 78), (83, 78)]\n",
    "polygon4 = [(135, 62), (165, 86), (145, 106)]\n",
    "polygon5 = [(135, 3), (149, 20), (103, 42), (103, 7)]\n",
    "polygon6 = [(197, 8), (197, 67), (157, 67), (157, 8)]\n",
    "polygon7 = [(204, 56), (218, 68), (218, 87), (199, 95), (181, 83), (181, 68)]\n",
    "polygon8 = [(221, 8), (229, 20), (225, 78), (203, 16)]\n",
    "polygons = [polygon1, polygon2, polygon3, polygon4, polygon5, polygon6, polygon7, polygon8]"
   ]
  },
  {
   "cell_type": "markdown",
   "id": "1137ee28",
   "metadata": {},
   "source": [
    "- Luego, se configuraron las siguientes funciones las cuales tienen como propósito verificar si el punto al cual se quiere navegar se encuentra dentro de uno de los obstáculos encontrados en el entorno."
   ]
  },
  {
   "cell_type": "code",
   "execution_count": 32,
   "id": "d2a6f9f6",
   "metadata": {},
   "outputs": [],
   "source": [
    "import heapq\n",
    "import time\n",
    "from collections import deque\n",
    "\n",
    "def is_point_in_obstacle(point, polygon_vertices):\n",
    "    x, y = point\n",
    "    n = len(polygon_vertices)\n",
    "    inside = False\n",
    "    p1x, p1y = polygon_vertices[0]\n",
    "    for i in range(n + 1):\n",
    "        p2x, p2y = polygon_vertices[i % n]\n",
    "        if y > min(p1y, p2y):\n",
    "            if y <= max(p1y, p2y):\n",
    "                if x <= max(p1x, p2x):\n",
    "                    if p1y != p2y:\n",
    "                        xinters = (y - p1y) * (p2x - p1x) / (p2y - p1y) + p1x\n",
    "                    if p1x == p2x or x <= xinters:\n",
    "                        inside = not inside\n",
    "        p1x, p1y = p2x, p2y\n",
    "    return inside\n",
    "\n",
    "def get_valid_neighbors(pos, polygons):\n",
    "    x, y = pos\n",
    "    neighbors = [(x+1, y), (x-1, y), (x, y+1), (x, y-1), (x+1, y+1), (x-1, y+1), (x+1, y-1), (x-1, y-1)]\n",
    "    valid_neighbors = []\n",
    "    for neighbor in neighbors:\n",
    "        if all(not is_point_in_obstacle(neighbor, polygon) for polygon in polygons):\n",
    "            valid_neighbors.append(neighbor)\n",
    "    return valid_neighbors"
   ]
  },
  {
   "cell_type": "markdown",
   "id": "be2de0ea",
   "metadata": {},
   "source": [
    "- Adicional a esto, se configuró una función heurística. La misma se encarga de estimar el costo (o distancia) restante desde un estado dado hasta su objetivo, lo cual ayuda con algoritmos cómo el de A* a explorar puntos que parezcan estar más cercanos al punto de meta en el entorno."
   ]
  },
  {
   "cell_type": "code",
   "execution_count": 33,
   "id": "69a6e4eb",
   "metadata": {},
   "outputs": [],
   "source": [
    "import math\n",
    "\n",
    "def heuristic(vertex1, vertex2):\n",
    "    \n",
    "    return math.sqrt((vertex2[0] - vertex1[0])**2 + (vertex2[1] - vertex1[1])**2)"
   ]
  },
  {
   "cell_type": "markdown",
   "id": "a08115d2",
   "metadata": {},
   "source": [
    "#### D)"
   ]
  },
  {
   "cell_type": "markdown",
   "id": "bfb22a8a",
   "metadata": {},
   "source": [
    "- Para la primera evaluación, se empleó el algoritmo de búsqueda en anchura (BFS), reconocido por su capacidad para encontrar la ruta más corta hacia el objetivo. Esta elección se basa en la eficacia de BFS para explorar sistemáticamente todas las posibles rutas desde el estado inicial hasta el objetivo, nivel por nivel, garantizando así que la primera solución encontrada sea la más corta. La selección de BFS para esta evaluación se justifica por su capacidad para encontrar la mejor ruta disponible y su idoneidad para problemas donde el objetivo es minimizar la cantidad de pasos o costos necesarios para alcanzar una solución. Al utilizar BFS, se espera obtener una solución óptima y completa en el menor tiempo posible, lo que permite comparar el rendimiento de otros algoritmos con esta referencia de calidad. Adicional a esto, cada algoritmo de búsqueda ejecutado cuenta con una función que genera una imagen mostrando el entorno y el camino seleccionado por el algoritmo pertinente."
   ]
  },
  {
   "cell_type": "markdown",
   "id": "d25e85fc",
   "metadata": {},
   "source": [
    "### BFS"
   ]
  },
  {
   "cell_type": "code",
   "execution_count": 49,
   "id": "cbc26ac2",
   "metadata": {},
   "outputs": [
    {
     "name": "stdout",
     "output_type": "stream",
     "text": [
      "Shortest Path: [(33, 107), (33, 108), (33, 109), (33, 110), (33, 111), (33, 112), (33, 113), (33, 114), (33, 115), (33, 116), (33, 117), (33, 118), (34, 119), (35, 120), (36, 121), (37, 121), (38, 121), (39, 121), (40, 121), (41, 121), (42, 121), (43, 121), (44, 121), (45, 121), (46, 121), (47, 121), (48, 121), (49, 121), (50, 121), (51, 121), (52, 121), (53, 121), (54, 121), (55, 121), (56, 121), (57, 121), (58, 121), (59, 121), (60, 121), (61, 121), (62, 121), (63, 121), (64, 121), (65, 121), (66, 121), (67, 121), (68, 121), (69, 121), (70, 121), (71, 121), (72, 121), (73, 121), (74, 121), (75, 121), (76, 121), (77, 121), (78, 121), (79, 121), (80, 121), (81, 121), (82, 121), (83, 121), (84, 121), (85, 121), (86, 121), (87, 121), (88, 121), (89, 121), (90, 121), (91, 121), (92, 121), (93, 121), (94, 121), (95, 121), (96, 121), (97, 121), (98, 121), (99, 121), (100, 121), (101, 121), (102, 121), (103, 121), (104, 121), (105, 121), (106, 121), (107, 121), (108, 121), (109, 121), (110, 121), (111, 121), (112, 121), (113, 121), (114, 121), (115, 121), (116, 121), (117, 121), (118, 121), (119, 121), (120, 121), (121, 121), (122, 121), (123, 121), (124, 121), (125, 121), (126, 121), (127, 121), (128, 121), (129, 121), (130, 121), (131, 121), (132, 121), (133, 121), (134, 121), (135, 121), (136, 121), (137, 121), (138, 121), (139, 121), (140, 121), (141, 121), (142, 121), (143, 121), (144, 121), (145, 121), (146, 121), (147, 121), (148, 121), (149, 121), (150, 121), (151, 121), (152, 121), (153, 121), (154, 121), (155, 121), (156, 121), (157, 121), (158, 121), (159, 121), (160, 121), (161, 121), (162, 121), (163, 121), (164, 121), (165, 121), (166, 121), (167, 121), (168, 121), (169, 121), (170, 121), (171, 121), (172, 121), (173, 121), (174, 121), (175, 121), (176, 121), (177, 121), (178, 121), (179, 121), (180, 121), (181, 121), (182, 121), (183, 121), (184, 121), (185, 121), (186, 120), (187, 119), (188, 118), (189, 117), (190, 116), (191, 115), (192, 114), (193, 113), (194, 112), (195, 111), (196, 110), (197, 109), (198, 108), (199, 107), (200, 106), (201, 105), (202, 104), (203, 103), (204, 102), (205, 101), (206, 100), (207, 99), (208, 98), (209, 97), (210, 96), (211, 95), (212, 94), (213, 93), (214, 92), (215, 91), (216, 90), (217, 89), (218, 88), (219, 87), (219, 86), (219, 85), (219, 84), (220, 83), (221, 82), (222, 81), (223, 80), (224, 79), (225, 78), (226, 77), (226, 76), (226, 75), (226, 74), (226, 73), (226, 72), (226, 71), (226, 70), (226, 69), (227, 68), (228, 67), (229, 66), (230, 65), (231, 64), (232, 63), (233, 62), (234, 61), (235, 60), (236, 59), (237, 58), (238, 57), (239, 56), (240, 55), (241, 54), (242, 53), (243, 52), (244, 51), (245, 50), (246, 49), (247, 48), (248, 47), (249, 46), (250, 45), (251, 44), (252, 43), (253, 42), (254, 41), (255, 40), (256, 39), (257, 38), (258, 37), (259, 36), (260, 35), (261, 34), (262, 33), (263, 32), (264, 31), (265, 30), (266, 29), (267, 28), (268, 27), (269, 26), (270, 25), (271, 24), (272, 23), (273, 22), (274, 21), (275, 20), (276, 19), (277, 18), (278, 17), (279, 16), (280, 15), (281, 14), (282, 13), (283, 12), (284, 11), (285, 10), (286, 9), (287, 8), (288, 7), (289, 6), (290, 5), (291, 4), (292, 3)]\n",
      "Time taken: 33.14754676818848 seconds\n"
     ]
    },
    {
     "data": {
      "image/png": "[encoded data removed]",
      "text/plain": [
       "<Figure size 432x288 with 1 Axes>"
      ]
     },
     "metadata": {
      "needs_background": "light"
     },
     "output_type": "display_data"
    }
   ],
   "source": [
    "def bfs(start, goal, polygons):\n",
    "    queue = deque([start])\n",
    "    visited = set([start])\n",
    "    came_from = {}\n",
    "\n",
    "    while queue:\n",
    "        current = queue.popleft()\n",
    "\n",
    "        if current == goal:\n",
    "            path = []\n",
    "            while current in came_from:\n",
    "                path.append(current)\n",
    "                current = came_from[current]\n",
    "            path.append(start)\n",
    "            return path[::-1]\n",
    "\n",
    "        for neighbor in get_valid_neighbors(current, polygons):\n",
    "            if neighbor not in visited:\n",
    "                queue.append(neighbor)\n",
    "                visited.add(neighbor)\n",
    "                came_from[neighbor] = current\n",
    "\n",
    "    return None  # No path found\n",
    "\n",
    "def plot_path_with_obstacles(polygons, start, goal, path):\n",
    "    fig, ax = plt.subplots()\n",
    "\n",
    "    # Plot polygons\n",
    "    for polygon in polygons:\n",
    "        poly = Polygon(polygon, facecolor='gray')\n",
    "        ax.add_patch(poly)\n",
    "\n",
    "    # Plot start and goal points\n",
    "    ax.plot(start[0], start[1], 'go', markersize=10, label='Start')\n",
    "    ax.plot(goal[0], goal[1], 'ro', markersize=10, label='Goal')\n",
    "\n",
    "    # Plot path\n",
    "    path_x, path_y = zip(*path)\n",
    "    ax.plot(path_x, path_y, 'b-', linewidth=2, label='Path')\n",
    "\n",
    "    ax.set_aspect('equal', 'box')\n",
    "    ax.set_xlabel('X')\n",
    "    ax.set_ylabel('Y')\n",
    "    ax.set_title('Path with Obstacles (BFS)')\n",
    "    ax.legend()\n",
    "    plt.show()\n",
    "\n",
    "if __name__ == \"__main__\":\n",
    "    polygons = [polygon1, polygon2, polygon3, polygon4, polygon5, polygon6, polygon7, polygon8]\n",
    "    start = (33, 107)\n",
    "    goal = (292, 3)\n",
    "\n",
    "    start_time = time.time()\n",
    "    path = bfs(start, goal, polygons)\n",
    "    end_time = time.time()\n",
    "\n",
    "    if path:\n",
    "        print(\"Shortest Path:\", path)\n",
    "        print(\"Time taken:\", end_time - start_time, \"seconds\")\n",
    "\n",
    "        # Plot the path with obstacles\n",
    "        plot_path_with_obstacles(polygons, start, goal, path)\n",
    "    else:\n",
    "        print(\"No path found\")"
   ]
  },
  {
   "cell_type": "markdown",
   "id": "8b041706",
   "metadata": {},
   "source": [
    "- Para la segunda evaluación, se decidió utilizar el algoritmo de búsqueda local, comúnmente conocido como “Hill Climbing”. A diferencia de otros algoritmos que garantizan encontrar la mejor solución, como A* o BFS, Hill Climbing no ofrece esa garantía. En cambio, busca mejorar continuamente la solución actual al moverse a estados vecinos que mejoren el valor de la función objetivo, ascendiendo “colinas” en el espacio de búsqueda. La elección de Hill Climbing para esta evaluación se basa en la intención de observar las diferencias en la calidad de las soluciones obtenidas en comparación con los otros algoritmos. Dado que Hill Climbing puede quedar atrapado en óptimos locales y no siempre alcanza la solución óptima global, nos permite explorar cómo la falta de garantías afecta la calidad de las soluciones en diferentes problemas."
   ]
  },
  {
   "cell_type": "markdown",
   "id": "d7bd5b9e",
   "metadata": {},
   "source": [
    "### Hill Climbing"
   ]
  },
  {
   "cell_type": "code",
   "execution_count": 13,
   "id": "e7c43129",
   "metadata": {},
   "outputs": [
    {
     "name": "stdout",
     "output_type": "stream",
     "text": [
      "Path found: [(33, 107), (34, 106), (35, 105), (35, 104), (35, 103), (35, 102), (35, 101), (35, 100), (35, 99), (35, 98), (35, 97), (35, 96), (35, 95), (35, 94), (35, 93), (35, 92), (35, 91), (36, 90), (37, 89), (38, 88), (39, 87), (40, 86), (41, 86), (42, 86), (43, 87), (44, 87), (45, 88), (46, 88), (47, 88), (48, 89), (49, 89), (50, 89), (51, 90), (52, 90)]\n",
      "Time taken: 0.004915952682495117 seconds\n"
     ]
    },
    {
     "data": {
      "image/png": "[encoded data removed]",
      "text/plain": [
       "<Figure size 432x288 with 1 Axes>"
      ]
     },
     "metadata": {
      "needs_background": "light"
     },
     "output_type": "display_data"
    }
   ],
   "source": [
    "def hill_climbing(start, goal, polygons):\n",
    "    \"\"\"\n",
    "    Hill climbing algorithm to find a path from start to goal.\n",
    "    \"\"\"\n",
    "    current = start\n",
    "    path = [current]\n",
    "\n",
    "    while current != goal:\n",
    "        neighbors = get_valid_neighbors(current, polygons)\n",
    "        if not neighbors:\n",
    "            return None  # No path found\n",
    "        next_neighbor = min(neighbors, key=lambda x: heuristic(x, goal))\n",
    "        if heuristic(next_neighbor, goal) >= heuristic(current, goal):\n",
    "            return path  # Closest neighbor is not closer to the goal\n",
    "        current = next_neighbor\n",
    "        path.append(current)\n",
    "\n",
    "    return path\n",
    "\n",
    "def plot_path_with_obstacles(polygons, start, goal, path):\n",
    "    fig, ax = plt.subplots()\n",
    "\n",
    "    # Plot polygons\n",
    "    for polygon in polygons:\n",
    "        poly = Polygon(polygon, facecolor='gray')\n",
    "        ax.add_patch(poly)\n",
    "\n",
    "    # Plot start and goal points\n",
    "    ax.plot(start[0], start[1], 'go', markersize=10, label='Start')\n",
    "    ax.plot(goal[0], goal[1], 'ro', markersize=10, label='Goal')\n",
    "\n",
    "    # Plot path\n",
    "    path_x, path_y = zip(*path)\n",
    "    ax.plot(path_x, path_y, 'b-', linewidth=2, label='Path')\n",
    "\n",
    "    ax.set_aspect('equal', 'box')\n",
    "    ax.set_xlabel('X')\n",
    "    ax.set_ylabel('Y')\n",
    "    ax.set_title('Path with Obstacles (Hill Climbing)')\n",
    "    ax.legend()\n",
    "    plt.show()\n",
    "\n",
    "if __name__ == \"__main__\":\n",
    "    polygons = [polygon1, polygon2, polygon3, polygon4, polygon5, polygon6, polygon7, polygon8]\n",
    "\n",
    "    # Define start and goal points (scaled down)\n",
    "    start = (33, 107)\n",
    "    goal = (292, 3)\n",
    "\n",
    "    start_time = time.time()\n",
    "    path = hill_climbing(start, goal, polygons)\n",
    "    end_time = time.time()\n",
    "\n",
    "    if path:\n",
    "        print(\"Path found:\", path)\n",
    "        print(\"Time taken:\", end_time - start_time, \"seconds\")\n",
    "        \n",
    "        \n",
    "        \n",
    "        # Plot the path with obstacles\n",
    "        plot_path_with_obstacles(polygons, start, goal, path)\n",
    "    else:\n",
    "        print(\"No path found\")"
   ]
  },
  {
   "cell_type": "markdown",
   "id": "e2f858b8",
   "metadata": {},
   "source": [
    "- En la última evaluación, se empleó el algoritmo A*, una técnica de búsqueda informada que combina los beneficios de la búsqueda en anchura y la búsqueda heurística. A diferencia de la búsqueda en anchura, que explora todas las posibles rutas de manera exhaustiva, A* utiliza una función heurística para guiar la búsqueda hacia las áreas más prometedoras del espacio de búsqueda.\n",
    "\n",
    "- La elección de A* se basa en su capacidad para encontrar soluciones óptimas y eficientes en términos de tiempo y memoria. Al evaluar A*, se puede observar cómo la combinación de búsqueda exhaustiva y heurística influye en la calidad y el rendimiento de las soluciones obtenidas en comparación con otros enfoques."
   ]
  },
  {
   "cell_type": "markdown",
   "id": "b677b94b",
   "metadata": {},
   "source": [
    "### A*"
   ]
  },
  {
   "cell_type": "code",
   "execution_count": 9,
   "id": "6ad9548a",
   "metadata": {},
   "outputs": [
    {
     "name": "stdout",
     "output_type": "stream",
     "text": [
      "Shortest Path: [(33, 107), (34, 108), (34, 109), (35, 110), (35, 111), (35, 112), (35, 113), (35, 114), (35, 115), (35, 116), (35, 117), (35, 118), (35, 119), (35, 120), (36, 121), (37, 121), (38, 121), (39, 121), (40, 121), (41, 121), (42, 121), (43, 121), (44, 121), (45, 121), (46, 121), (47, 121), (48, 121), (49, 121), (50, 121), (51, 121), (52, 121), (53, 121), (54, 121), (55, 121), (56, 121), (57, 121), (58, 121), (59, 121), (60, 121), (61, 121), (62, 121), (63, 121), (64, 121), (65, 121), (66, 121), (67, 121), (68, 121), (69, 121), (70, 121), (71, 121), (72, 121), (73, 121), (74, 121), (75, 121), (76, 121), (77, 121), (78, 121), (79, 121), (80, 121), (81, 121), (82, 121), (83, 121), (84, 121), (85, 121), (86, 121), (87, 121), (88, 121), (89, 121), (90, 121), (91, 121), (92, 121), (93, 121), (94, 121), (95, 121), (96, 121), (97, 121), (98, 121), (99, 121), (100, 121), (101, 121), (102, 121), (103, 121), (104, 121), (105, 120), (106, 119), (107, 118), (108, 117), (109, 116), (110, 115), (111, 114), (112, 113), (113, 112), (114, 111), (115, 110), (116, 109), (117, 108), (118, 107), (119, 106), (120, 106), (121, 106), (122, 106), (123, 106), (124, 106), (125, 106), (126, 106), (127, 106), (128, 106), (129, 106), (130, 106), (131, 106), (132, 106), (133, 106), (134, 106), (135, 106), (136, 106), (137, 106), (138, 106), (139, 106), (140, 106), (141, 106), (142, 106), (143, 106), (144, 106), (145, 106), (146, 106), (147, 105), (148, 104), (149, 103), (150, 102), (151, 101), (152, 100), (153, 99), (154, 98), (155, 97), (156, 96), (157, 95), (158, 95), (159, 95), (160, 95), (161, 95), (162, 95), (163, 95), (164, 95), (165, 95), (166, 95), (167, 95), (168, 95), (169, 95), (170, 95), (171, 95), (172, 95), (173, 95), (174, 95), (175, 95), (176, 95), (177, 95), (178, 95), (179, 95), (180, 95), (181, 95), (182, 95), (183, 95), (184, 95), (185, 95), (186, 95), (187, 95), (188, 95), (189, 95), (190, 95), (191, 95), (192, 95), (193, 95), (194, 95), (195, 95), (196, 95), (197, 95), (198, 95), (199, 95), (200, 95), (201, 95), (202, 94), (203, 94), (204, 93), (205, 93), (206, 93), (207, 92), (208, 92), (209, 91), (210, 91), (211, 90), (212, 90), (213, 90), (214, 89), (215, 89), (216, 88), (217, 88), (218, 88), (219, 87), (220, 86), (221, 85), (222, 84), (223, 83), (224, 82), (225, 81), (226, 80), (227, 79), (228, 78), (229, 77), (230, 76), (231, 75), (232, 74), (233, 73), (234, 72), (235, 71), (236, 70), (237, 69), (238, 68), (239, 67), (240, 66), (241, 65), (242, 64), (243, 63), (244, 62), (245, 61), (246, 60), (247, 59), (248, 58), (249, 57), (250, 56), (251, 55), (252, 54), (253, 53), (254, 52), (255, 51), (256, 50), (257, 49), (258, 48), (259, 47), (260, 46), (261, 45), (262, 44), (263, 43), (264, 42), (265, 41), (266, 40), (267, 39), (268, 38), (269, 37), (270, 36), (271, 35), (272, 34), (273, 33), (274, 32), (275, 31), (276, 30), (277, 29), (278, 28), (279, 27), (280, 26), (281, 25), (282, 24), (283, 23), (283, 22), (284, 21), (284, 20), (285, 19), (285, 18), (286, 17), (286, 16), (287, 15), (287, 14), (287, 13), (288, 12), (288, 11), (289, 10), (289, 9), (290, 8), (290, 7), (291, 6), (291, 5), (291, 4), (292, 3)]\n",
      "\n",
      "Time taken: 2.34421706199646 seconds\n"
     ]
    },
    {
     "data": {
      "image/png": "[encoded data removed]",
      "text/plain": [
       "<Figure size 432x288 with 1 Axes>"
      ]
     },
     "metadata": {
      "needs_background": "light"
     },
     "output_type": "display_data"
    }
   ],
   "source": [
    "import matplotlib.pyplot as plt\n",
    "from matplotlib.patches import Polygon\n",
    "\n",
    "def astar(start, goal, polygons):\n",
    "    \n",
    "    open_list = [(0, start)]\n",
    "    came_from = {}\n",
    "    g_score = {start: 0}\n",
    "    f_score = {start: heuristic(start, goal)}\n",
    "\n",
    "    while open_list:\n",
    "        current_f, current = heapq.heappop(open_list)\n",
    "\n",
    "        if current == goal:\n",
    "            path = []\n",
    "            while current in came_from:\n",
    "                path.append(current)\n",
    "                current = came_from[current]\n",
    "            path.append(start)\n",
    "            return path[::-1]\n",
    "\n",
    "        for neighbor in get_valid_neighbors(current, polygons):\n",
    "            tentative_g = g_score[current] + heuristic(current, neighbor)\n",
    "\n",
    "            if neighbor not in g_score or tentative_g < g_score[neighbor]:\n",
    "                came_from[neighbor] = current\n",
    "                g_score[neighbor] = tentative_g\n",
    "                f_score[neighbor] = tentative_g + heuristic(neighbor, goal)\n",
    "                heapq.heappush(open_list, (f_score[neighbor], neighbor))\n",
    "\n",
    "    return None  # No path found\n",
    "def plot_path_with_obstacles(polygons, start, goal, path):\n",
    "    fig, ax = plt.subplots()\n",
    "\n",
    "    # Plot polygons\n",
    "    for polygon in polygons:\n",
    "        poly = Polygon(polygon, facecolor='gray')\n",
    "        ax.add_patch(poly)\n",
    "\n",
    "    # Plot start and goal points\n",
    "    ax.plot(start[0], start[1], 'go', markersize=10, label='Start')\n",
    "    ax.plot(goal[0], goal[1], 'ro', markersize=10, label='Goal')\n",
    "\n",
    "    # Plot path\n",
    "    path_x, path_y = zip(*path)\n",
    "    ax.plot(path_x, path_y, 'b-', linewidth=2, label='Path')\n",
    "\n",
    "    ax.set_aspect('equal', 'box')\n",
    "    ax.set_xlabel('X')\n",
    "    ax.set_ylabel('Y')\n",
    "    ax.set_title('Path with Obstacles (A*)')\n",
    "    ax.legend()\n",
    "    plt.show()\n",
    "\n",
    "if __name__ == \"__main__\":\n",
    "    polygons = [polygon1, polygon2, polygon3, polygon4, polygon5, polygon6, polygon7, polygon8]\n",
    "    start = (33, 107)\n",
    "    goal = (292, 3)\n",
    "\n",
    "    start_time = time.time()\n",
    "    path = astar(start, goal, polygons)\n",
    "    end_time = time.time()\n",
    "\n",
    "    if path:\n",
    "        print(\"Shortest Path:\", path)\n",
    "        print(\"\\nTime taken:\", end_time - start_time, \"seconds\")\n",
    "\n",
    "        # Plot the path with obstacles\n",
    "        plot_path_with_obstacles(polygons, start, goal, path)\n",
    "    else:\n",
    "        print(\"No path found\")"
   ]
  },
  {
   "cell_type": "markdown",
   "id": "9e63e877",
   "metadata": {},
   "source": [
    "### Segundo entorno"
   ]
  },
  {
   "cell_type": "markdown",
   "id": "9ca8a70f",
   "metadata": {},
   "source": [
    "- El segundo entorno a evaluarse consta de tres triángulos ubicados uno al lado del otro de izquierda a derecha. Los algoritmos a evaluarse son los mismos utilizados para el primer entorno. "
   ]
  },
  {
   "cell_type": "code",
   "execution_count": 21,
   "id": "4d8ce76d",
   "metadata": {},
   "outputs": [],
   "source": [
    "# Define polygonal obstacles as lists of vertices\n",
    "triangle1 = [(10, 10), (40, 40), (25, 40)]\n",
    "triangle2 = [(45, 40), (70, 10), (55, 10)] \n",
    "triangle3 = [(75, 10), (100, 40), (85, 40)]\n",
    "polygons = [triangle1, triangle2, triangle3]\n",
    "\n",
    "start = (15, 25)\n",
    "goal = (95, 25)"
   ]
  },
  {
   "cell_type": "markdown",
   "id": "6b45206a",
   "metadata": {},
   "source": [
    "### Hill Climbing"
   ]
  },
  {
   "cell_type": "code",
   "execution_count": 27,
   "id": "ad38e5cb",
   "metadata": {},
   "outputs": [
    {
     "name": "stdout",
     "output_type": "stream",
     "text": [
      "Path found: [(15, 25), (16, 25), (17, 25), (18, 26)]\n",
      "Time taken: 0.0008711814880371094 seconds\n"
     ]
    },
    {
     "data": {
      "image/png": "[encoded data removed]",
      "text/plain": [
       "<Figure size 432x288 with 1 Axes>"
      ]
     },
     "metadata": {
      "needs_background": "light"
     },
     "output_type": "display_data"
    }
   ],
   "source": [
    "def hill_climbing(start, goal, polygons):\n",
    "    \"\"\"\n",
    "    Hill climbing algorithm to find a path from start to goal.\n",
    "    \"\"\"\n",
    "    current = start\n",
    "    path = [current]\n",
    "\n",
    "    while current != goal:\n",
    "        neighbors = get_valid_neighbors(current, polygons)\n",
    "        if not neighbors:\n",
    "            return None  # No path found\n",
    "        next_neighbor = min(neighbors, key=lambda x: heuristic(x, goal))\n",
    "        if heuristic(next_neighbor, goal) >= heuristic(current, goal):\n",
    "            return path  # Closest neighbor is not closer to the goal\n",
    "        current = next_neighbor\n",
    "        path.append(current)\n",
    "\n",
    "    return path\n",
    "\n",
    "def plot_path_with_obstacles(polygons, start, goal, path):\n",
    "    fig, ax = plt.subplots()\n",
    "\n",
    "    # Plot polygons\n",
    "    for polygon in polygons:\n",
    "        poly = Polygon(polygon, facecolor='gray')\n",
    "        ax.add_patch(poly)\n",
    "\n",
    "    # Plot start and goal points\n",
    "    ax.plot(start[0], start[1], 'go', markersize=10, label='Start')\n",
    "    ax.plot(goal[0], goal[1], 'ro', markersize=10, label='Goal')\n",
    "\n",
    "    # Plot path\n",
    "    path_x, path_y = zip(*path)\n",
    "    ax.plot(path_x, path_y, 'b-', linewidth=2, label='Path')\n",
    "\n",
    "    ax.set_aspect('equal', 'box')\n",
    "    ax.set_xlabel('X')\n",
    "    ax.set_ylabel('Y')\n",
    "    ax.set_title('Path with Obstacles (Hill Climbing)')\n",
    "    ax.legend()\n",
    "    plt.show()\n",
    "\n",
    "if __name__ == \"__main__\":\n",
    "    polygons = [triangle1, triangle2, triangle3]\n",
    "\n",
    "    # Define start and goal points (scaled down)\n",
    "    start = (15, 25)\n",
    "    goal = (95, 25)\n",
    "\n",
    "    start_time = time.time()\n",
    "    path = hill_climbing(start, goal, polygons)\n",
    "    end_time = time.time()\n",
    "\n",
    "    if path:\n",
    "        print(\"Path found:\", path)\n",
    "        print(\"Time taken:\", end_time - start_time, \"seconds\")\n",
    "        \n",
    "        \n",
    "        \n",
    "        # Plot the path with obstacles\n",
    "        plot_path_with_obstacles(polygons, start, goal, path)\n",
    "    else:\n",
    "        print(\"No path found\")"
   ]
  },
  {
   "cell_type": "markdown",
   "id": "5331b085",
   "metadata": {},
   "source": [
    "### BFS"
   ]
  },
  {
   "cell_type": "code",
   "execution_count": 31,
   "id": "3dabc88e",
   "metadata": {},
   "outputs": [
    {
     "name": "stdout",
     "output_type": "stream",
     "text": [
      "Shortest Path: [(15, 25), (15, 26), (15, 27), (15, 28), (15, 29), (15, 30), (16, 31), (17, 32), (18, 33), (19, 34), (20, 35), (21, 36), (22, 37), (23, 38), (24, 39), (25, 40), (26, 41), (27, 41), (28, 41), (29, 41), (30, 41), (31, 41), (32, 41), (33, 41), (34, 41), (35, 41), (36, 41), (37, 41), (38, 41), (39, 41), (40, 41), (41, 41), (42, 41), (43, 41), (44, 41), (45, 41), (46, 41), (47, 41), (48, 41), (49, 40), (50, 39), (51, 38), (52, 37), (53, 36), (54, 35), (55, 34), (56, 33), (57, 32), (58, 31), (59, 30), (60, 29), (61, 28), (62, 27), (63, 26), (64, 25), (65, 24), (66, 23), (67, 22), (68, 21), (69, 20), (70, 19), (71, 18), (72, 17), (73, 16), (74, 15), (75, 14), (76, 13), (77, 12), (78, 12), (79, 12), (80, 12), (81, 12), (82, 12), (83, 13), (84, 14), (85, 15), (86, 16), (87, 17), (88, 18), (89, 19), (90, 20), (91, 21), (92, 22), (93, 23), (94, 24), (95, 25)]\n",
      "Time taken: 1.0481767654418945 seconds\n"
     ]
    },
    {
     "data": {
      "image/png": "[encoded data removed]",
      "text/plain": [
       "<Figure size 432x288 with 1 Axes>"
      ]
     },
     "metadata": {
      "needs_background": "light"
     },
     "output_type": "display_data"
    }
   ],
   "source": [
    "def bfs(start, goal, polygons):\n",
    "    queue = deque([start])\n",
    "    visited = set([start])\n",
    "    came_from = {}\n",
    "\n",
    "    while queue:\n",
    "        current = queue.popleft()\n",
    "\n",
    "        if current == goal:\n",
    "            path = []\n",
    "            while current in came_from:\n",
    "                path.append(current)\n",
    "                current = came_from[current]\n",
    "            path.append(start)\n",
    "            return path[::-1]\n",
    "\n",
    "        for neighbor in get_valid_neighbors(current, polygons):\n",
    "            if neighbor not in visited:\n",
    "                queue.append(neighbor)\n",
    "                visited.add(neighbor)\n",
    "                came_from[neighbor] = current\n",
    "\n",
    "    return None  # No path found\n",
    "\n",
    "def plot_path_with_obstacles(polygons, start, goal, path):\n",
    "    fig, ax = plt.subplots()\n",
    "\n",
    "    # Plot polygons\n",
    "    for polygon in polygons:\n",
    "        poly = Polygon(polygon, facecolor='gray')\n",
    "        ax.add_patch(poly)\n",
    "\n",
    "    # Plot start and goal points\n",
    "    ax.plot(start[0], start[1], 'go', markersize=10, label='Start')\n",
    "    ax.plot(goal[0], goal[1], 'ro', markersize=10, label='Goal')\n",
    "\n",
    "    # Plot path\n",
    "    path_x, path_y = zip(*path)\n",
    "    ax.plot(path_x, path_y, 'b-', linewidth=2, label='Path')\n",
    "\n",
    "    ax.set_aspect('equal', 'box')\n",
    "    ax.set_xlabel('X')\n",
    "    ax.set_ylabel('Y')\n",
    "    ax.set_title('Path with Obstacles (BFS)')\n",
    "    ax.legend()\n",
    "    plt.show()\n",
    "\n",
    "if __name__ == \"__main__\":\n",
    "    polygons = [triangle1, triangle2, triangle3]\n",
    "    start = (15, 25)\n",
    "    goal = (95, 25)\n",
    "\n",
    "    start_time = time.time()\n",
    "    path = bfs(start, goal, polygons)\n",
    "    end_time = time.time()\n",
    "\n",
    "    if path:\n",
    "        print(\"Shortest Path:\", path)\n",
    "        print(\"Time taken:\", end_time - start_time, \"seconds\")\n",
    "\n",
    "        # Plot the path with obstacles\n",
    "        plot_path_with_obstacles(polygons, start, goal, path)\n",
    "    else:\n",
    "        print(\"No path found\")"
   ]
  },
  {
   "cell_type": "markdown",
   "id": "8e9319fa",
   "metadata": {},
   "source": [
    "### A*"
   ]
  },
  {
   "cell_type": "code",
   "execution_count": 25,
   "id": "6c101b8e",
   "metadata": {},
   "outputs": [
    {
     "name": "stdout",
     "output_type": "stream",
     "text": [
      "Shortest Path: [(15, 25), (15, 24), (15, 23), (15, 22), (14, 21), (13, 20), (12, 19), (12, 18), (12, 17), (12, 16), (12, 15), (12, 14), (11, 13), (11, 12), (12, 11), (13, 11), (14, 11), (15, 11), (16, 11), (17, 11), (18, 11), (19, 11), (20, 11), (21, 11), (22, 11), (23, 11), (24, 11), (25, 11), (26, 11), (27, 11), (28, 11), (29, 11), (30, 11), (31, 11), (32, 11), (33, 11), (34, 11), (35, 11), (36, 11), (37, 11), (38, 11), (39, 11), (40, 11), (41, 11), (42, 11), (43, 11), (44, 11), (45, 11), (46, 11), (47, 11), (48, 11), (49, 11), (50, 11), (51, 11), (52, 11), (53, 11), (54, 11), (55, 10), (56, 10), (57, 10), (58, 10), (59, 10), (60, 10), (61, 10), (62, 10), (63, 10), (64, 10), (65, 10), (66, 10), (67, 10), (68, 10), (69, 10), (70, 11), (71, 11), (72, 11), (73, 11), (74, 11), (75, 11), (76, 11), (77, 12), (78, 13), (79, 14), (80, 15), (81, 16), (82, 17), (83, 18), (84, 19), (85, 20), (86, 21), (87, 21), (88, 22), (89, 22), (90, 23), (91, 23), (92, 24), (93, 24), (94, 24), (95, 25)]\n",
      "\n",
      "Time taken: 0.22532892227172852 seconds\n"
     ]
    },
    {
     "data": {
      "image/png": "[encoded data removed]",
      "text/plain": [
       "<Figure size 432x288 with 1 Axes>"
      ]
     },
     "metadata": {
      "needs_background": "light"
     },
     "output_type": "display_data"
    }
   ],
   "source": [
    "def astar(start, goal, polygons):\n",
    "    \n",
    "    open_list = [(0, start)]\n",
    "    came_from = {}\n",
    "    g_score = {start: 0}\n",
    "    f_score = {start: heuristic(start, goal)}\n",
    "\n",
    "    while open_list:\n",
    "        current_f, current = heapq.heappop(open_list)\n",
    "\n",
    "        if current == goal:\n",
    "            path = []\n",
    "            while current in came_from:\n",
    "                path.append(current)\n",
    "                current = came_from[current]\n",
    "            path.append(start)\n",
    "            return path[::-1]\n",
    "\n",
    "        for neighbor in get_valid_neighbors(current, polygons):\n",
    "            tentative_g = g_score[current] + heuristic(current, neighbor)\n",
    "\n",
    "            if neighbor not in g_score or tentative_g < g_score[neighbor]:\n",
    "                came_from[neighbor] = current\n",
    "                g_score[neighbor] = tentative_g\n",
    "                f_score[neighbor] = tentative_g + heuristic(neighbor, goal)\n",
    "                heapq.heappush(open_list, (f_score[neighbor], neighbor))\n",
    "\n",
    "    return None  # No path found\n",
    "def plot_path_with_obstacles(polygons, start, goal, path):\n",
    "    fig, ax = plt.subplots()\n",
    "\n",
    "    # Plot polygons\n",
    "    for polygon in polygons:\n",
    "        poly = Polygon(polygon, facecolor='gray')\n",
    "        ax.add_patch(poly)\n",
    "\n",
    "    # Plot start and goal points\n",
    "    ax.plot(start[0], start[1], 'go', markersize=10, label='Start')\n",
    "    ax.plot(goal[0], goal[1], 'ro', markersize=10, label='Goal')\n",
    "\n",
    "    # Plot path\n",
    "    path_x, path_y = zip(*path)\n",
    "    ax.plot(path_x, path_y, 'b-', linewidth=2, label='Path')\n",
    "\n",
    "    ax.set_aspect('equal', 'box')\n",
    "    ax.set_xlabel('X')\n",
    "    ax.set_ylabel('Y')\n",
    "    ax.set_title('Path with Obstacles (A*)')\n",
    "    ax.legend()\n",
    "    plt.show()\n",
    "\n",
    "if __name__ == \"__main__\":\n",
    "    polygons = [triangle1, triangle2, triangle3]\n",
    "    start = (15, 25)\n",
    "    goal = (95, 25)\n",
    "\n",
    "    start_time = time.time()\n",
    "    path = astar(start, goal, polygons)\n",
    "    end_time = time.time()\n",
    "\n",
    "    if path:\n",
    "        print(\"Shortest Path:\", path)\n",
    "        print(\"\\nTime taken:\", end_time - start_time, \"seconds\")\n",
    "\n",
    "        # Plot the path with obstacles\n",
    "        plot_path_with_obstacles(polygons, start, goal, path)\n",
    "    else:\n",
    "        print(\"No path found\")"
   ]
  },
  {
   "cell_type": "markdown",
   "id": "65e6b562",
   "metadata": {},
   "source": [
    "### Segundo problema"
   ]
  },
  {
   "cell_type": "markdown",
   "id": "8e125730",
   "metadata": {},
   "source": [
    "- El problema 3.9 del libro de texto de la clase presenta un problema en el cual 3 misioneros y 3 caníbales se encuentran en un lado del río y el objetivo es que todos terminen en el lado opuesto del río utilizando un bote en el cual solo caben dos personas al mismo tiempo y evitando que la cantidad de caníbales sea mayor a la de los misioneros en ninguno de los dos extremos del río. Para este tipo de problemas es posible utilizar dos tipos de algorítmos de búsqueda que resulten ser eficientes, la búsqueda en anchura (en inglés BFS - Breadth First Search) y búsqueda en profundidad (en inglés DFS o Depth First Search) y ambos serán evaluados con el propósito de determinar cual encuentra la mejor solución."
   ]
  },
  {
   "cell_type": "markdown",
   "id": "fa7916ac",
   "metadata": {},
   "source": [
    "### Código de misioneros y caníbales"
   ]
  },
  {
   "cell_type": "markdown",
   "id": "cd1e1221",
   "metadata": {},
   "source": [
    "#### BFS"
   ]
  },
  {
   "cell_type": "markdown",
   "id": "11bb72eb",
   "metadata": {},
   "source": [
    "- El algoritmo consta de una clase de estado, en la cual se definen los cambios de estado en el entorno y una función de sucesores que utiliza la clase de estado para realizar los cambios. Adicional a esto, verifica los estados repetidos para asegurar una solución más eficiente, evitando estados visitados anteriormente. Finalmente, se implementa el algoritmo de búsqueda correspondiente, en este caso, búsqueda en anchura."
   ]
  },
  {
   "cell_type": "code",
   "execution_count": 44,
   "id": "6dc2f312",
   "metadata": {},
   "outputs": [
    {
     "name": "stdout",
     "output_type": "stream",
     "text": [
      "Solution found for BFS:\n",
      "Number of steps executed: 11\n",
      "Left side: 3 Cannibals, 3 Missionaries\n",
      "Boat is at: left\n",
      "Right side: 0 Cannibals, 0 Missionaries\n",
      "\n",
      "Left side: 1 Cannibals, 3 Missionaries\n",
      "Boat is at: right\n",
      "Right side: 2 Cannibals, 0 Missionaries\n",
      "\n",
      "Left side: 2 Cannibals, 3 Missionaries\n",
      "Boat is at: left\n",
      "Right side: 1 Cannibals, 0 Missionaries\n",
      "\n",
      "Left side: 0 Cannibals, 3 Missionaries\n",
      "Boat is at: right\n",
      "Right side: 3 Cannibals, 0 Missionaries\n",
      "\n",
      "Left side: 1 Cannibals, 3 Missionaries\n",
      "Boat is at: left\n",
      "Right side: 2 Cannibals, 0 Missionaries\n",
      "\n",
      "Left side: 1 Cannibals, 1 Missionaries\n",
      "Boat is at: right\n",
      "Right side: 2 Cannibals, 2 Missionaries\n",
      "\n",
      "Left side: 2 Cannibals, 2 Missionaries\n",
      "Boat is at: left\n",
      "Right side: 1 Cannibals, 1 Missionaries\n",
      "\n",
      "Left side: 2 Cannibals, 0 Missionaries\n",
      "Boat is at: right\n",
      "Right side: 1 Cannibals, 3 Missionaries\n",
      "\n",
      "Left side: 3 Cannibals, 0 Missionaries\n",
      "Boat is at: left\n",
      "Right side: 0 Cannibals, 3 Missionaries\n",
      "\n",
      "Left side: 1 Cannibals, 0 Missionaries\n",
      "Boat is at: right\n",
      "Right side: 2 Cannibals, 3 Missionaries\n",
      "\n",
      "Left side: 1 Cannibals, 1 Missionaries\n",
      "Boat is at: left\n",
      "Right side: 2 Cannibals, 2 Missionaries\n",
      "\n",
      "Left side: 0 Cannibals, 0 Missionaries\n",
      "Boat is at: right\n",
      "Right side: 3 Cannibals, 3 Missionaries\n",
      "\n"
     ]
    }
   ],
   "source": [
    "from collections import deque\n",
    "\n",
    "# Breadth First Search Solution\n",
    "\n",
    "class State:\n",
    "    def __init__(self, cannibal_left, missionary_left, boat, cannibal_right, missionary_right):\n",
    "        self.cannibal_left = cannibal_left\n",
    "        self.missionary_left = missionary_left\n",
    "        self.boat = boat\n",
    "        self.cannibal_right = cannibal_right\n",
    "        self.missionary_right = missionary_right\n",
    "        self.parent = None\n",
    "\n",
    "    def is_valid(self):\n",
    "        if self.missionary_left >= 0 and self.missionary_right >= 0 \\\n",
    "           and self.cannibal_left >= 0 and self.cannibal_right >= 0 \\\n",
    "           and (self.missionary_left == 0 or self.missionary_left >= self.cannibal_left) \\\n",
    "           and (self.missionary_right == 0 or self.missionary_right >= self.cannibal_right):\n",
    "            return True\n",
    "        else:\n",
    "            return False\n",
    "\n",
    "    def is_goal(self):\n",
    "        return self.cannibal_left == 0 and self.missionary_left == 0\n",
    "\n",
    "    def __eq__(self, other):\n",
    "        return self.cannibal_left == other.cannibal_left and \\\n",
    "               self.missionary_left == other.missionary_left and \\\n",
    "               self.boat == other.boat and \\\n",
    "               self.cannibal_right == other.cannibal_right and \\\n",
    "               self.missionary_right == other.missionary_right\n",
    "\n",
    "    def __hash__(self):\n",
    "        return hash((self.cannibal_left, self.missionary_left, self.boat, self.cannibal_right, self.missionary_right))\n",
    "\n",
    "def successors(state):\n",
    "    children = []\n",
    "    if state.boat == 'left':\n",
    "        new_state = State(state.cannibal_left, state.missionary_left - 2, 'right',\n",
    "                          state.cannibal_right, state.missionary_right + 2)\n",
    "        # Two missionaries cross left to right\n",
    "        if new_state.is_valid():\n",
    "            new_state.parent = state\n",
    "            children.append(new_state)\n",
    "        new_state = State(state.cannibal_left - 2, state.missionary_left, 'right',\n",
    "                          state.cannibal_right + 2, state.missionary_right)\n",
    "        # Two cannibals cross left to right\n",
    "        if new_state.is_valid():\n",
    "            new_state.parent = state\n",
    "            children.append(new_state)\n",
    "        new_state = State(state.cannibal_left - 1, state.missionary_left - 1, 'right',\n",
    "                          state.cannibal_right + 1, state.missionary_right + 1)\n",
    "        # One missionary and one cannibal cross left to right\n",
    "        if new_state.is_valid():\n",
    "            new_state.parent = state\n",
    "            children.append(new_state)\n",
    "        new_state = State(state.cannibal_left, state.missionary_left - 1, 'right',\n",
    "                          state.cannibal_right, state.missionary_right + 1)\n",
    "        # One missionary crosses left to right\n",
    "        if new_state.is_valid():\n",
    "            new_state.parent = state\n",
    "            children.append(new_state)\n",
    "        new_state = State(state.cannibal_left - 1, state.missionary_left, 'right',\n",
    "                          state.cannibal_right + 1, state.missionary_right)\n",
    "        # One cannibal crosses left to right\n",
    "        if new_state.is_valid():\n",
    "            new_state.parent = state\n",
    "            children.append(new_state)\n",
    "    else:\n",
    "        new_state = State(state.cannibal_left, state.missionary_left + 2, 'left',\n",
    "                          state.cannibal_right, state.missionary_right - 2)\n",
    "        # Two missionaries cross right to left\n",
    "        if new_state.is_valid():\n",
    "            new_state.parent = state\n",
    "            children.append(new_state)\n",
    "        new_state = State(state.cannibal_left + 2, state.missionary_left, 'left',\n",
    "                          state.cannibal_right - 2, state.missionary_right)\n",
    "        # Two cannibals cross right to left\n",
    "        if new_state.is_valid():\n",
    "            new_state.parent = state\n",
    "            children.append(new_state)\n",
    "        new_state = State(state.cannibal_left + 1, state.missionary_left + 1, 'left',\n",
    "                          state.cannibal_right - 1, state.missionary_right - 1)\n",
    "        # One missionary and one cannibal cross right to left\n",
    "        if new_state.is_valid():\n",
    "            new_state.parent = state\n",
    "            children.append(new_state)\n",
    "        new_state = State(state.cannibal_left, state.missionary_left + 1, 'left',\n",
    "                          state.cannibal_right, state.missionary_right - 1)\n",
    "        # One missionary crosses right to left\n",
    "        if new_state.is_valid():\n",
    "            new_state.parent = state\n",
    "            children.append(new_state)\n",
    "        new_state = State(state.cannibal_left + 1, state.missionary_left, 'left',\n",
    "                          state.cannibal_right - 1, state.missionary_right)\n",
    "        # One cannibal crosses right to left\n",
    "        if new_state.is_valid():\n",
    "            new_state.parent = state\n",
    "            children.append(new_state)\n",
    "    return children\n",
    "\n",
    "from collections import deque\n",
    "\n",
    "# Breadth First Search Solution\n",
    "\n",
    "class State:\n",
    "    def __init__(self, cannibal_left, missionary_left, boat, cannibal_right, missionary_right):\n",
    "        self.cannibal_left = cannibal_left\n",
    "        self.missionary_left = missionary_left\n",
    "        self.boat = boat\n",
    "        self.cannibal_right = cannibal_right\n",
    "        self.missionary_right = missionary_right\n",
    "        self.parent = None\n",
    "\n",
    "    def is_valid(self):\n",
    "        if self.missionary_left >= 0 and self.missionary_right >= 0 \\\n",
    "           and self.cannibal_left >= 0 and self.cannibal_right >= 0 \\\n",
    "           and (self.missionary_left == 0 or self.missionary_left >= self.cannibal_left) \\\n",
    "           and (self.missionary_right == 0 or self.missionary_right >= self.cannibal_right):\n",
    "            return True\n",
    "        else:\n",
    "            return False\n",
    "\n",
    "    def is_goal(self):\n",
    "        return self.cannibal_left == 0 and self.missionary_left == 0\n",
    "\n",
    "    def __eq__(self, other):\n",
    "        return self.cannibal_left == other.cannibal_left and \\\n",
    "               self.missionary_left == other.missionary_left and \\\n",
    "               self.boat == other.boat and \\\n",
    "               self.cannibal_right == other.cannibal_right and \\\n",
    "               self.missionary_right == other.missionary_right\n",
    "\n",
    "    def __hash__(self):\n",
    "        return hash((self.cannibal_left, self.missionary_left, self.boat, self.cannibal_right, self.missionary_right))\n",
    "\n",
    "def successors(state):\n",
    "    children = []\n",
    "    if state.boat == 'left':\n",
    "        new_state = State(state.cannibal_left, state.missionary_left - 2, 'right',\n",
    "                          state.cannibal_right, state.missionary_right + 2)\n",
    "        # Two missionaries cross left to right\n",
    "        if new_state.is_valid():\n",
    "            new_state.parent = state\n",
    "            children.append(new_state)\n",
    "        new_state = State(state.cannibal_left - 2, state.missionary_left, 'right',\n",
    "                          state.cannibal_right + 2, state.missionary_right)\n",
    "        # Two cannibals cross left to right\n",
    "        if new_state.is_valid():\n",
    "            new_state.parent = state\n",
    "            children.append(new_state)\n",
    "        new_state = State(state.cannibal_left - 1, state.missionary_left - 1, 'right',\n",
    "                          state.cannibal_right + 1, state.missionary_right + 1)\n",
    "        # One missionary and one cannibal cross left to right\n",
    "        if new_state.is_valid():\n",
    "            new_state.parent = state\n",
    "            children.append(new_state)\n",
    "        new_state = State(state.cannibal_left, state.missionary_left - 1, 'right',\n",
    "                          state.cannibal_right, state.missionary_right + 1)\n",
    "        # One missionary crosses left to right\n",
    "        if new_state.is_valid():\n",
    "            new_state.parent = state\n",
    "            children.append(new_state)\n",
    "        new_state = State(state.cannibal_left - 1, state.missionary_left, 'right',\n",
    "                          state.cannibal_right + 1, state.missionary_right)\n",
    "        # One cannibal crosses left to right\n",
    "        if new_state.is_valid():\n",
    "            new_state.parent = state\n",
    "            children.append(new_state)\n",
    "    else:\n",
    "        new_state = State(state.cannibal_left, state.missionary_left + 2, 'left',\n",
    "                          state.cannibal_right, state.missionary_right - 2)\n",
    "        # Two missionaries cross right to left\n",
    "        if new_state.is_valid():\n",
    "            new_state.parent = state\n",
    "            children.append(new_state)\n",
    "        new_state = State(state.cannibal_left + 2, state.missionary_left, 'left',\n",
    "                          state.cannibal_right - 2, state.missionary_right)\n",
    "        # Two cannibals cross right to left\n",
    "        if new_state.is_valid():\n",
    "            new_state.parent = state\n",
    "            children.append(new_state)\n",
    "        new_state = State(state.cannibal_left + 1, state.missionary_left + 1, 'left',\n",
    "                          state.cannibal_right - 1, state.missionary_right - 1)\n",
    "        # One missionary and one cannibal cross right to left\n",
    "        if new_state.is_valid():\n",
    "            new_state.parent = state\n",
    "            children.append(new_state)\n",
    "        new_state = State(state.cannibal_left, state.missionary_left + 1, 'left',\n",
    "                          state.cannibal_right, state.missionary_right - 1)\n",
    "        # One missionary crosses right to left\n",
    "        if new_state.is_valid():\n",
    "            new_state.parent = state\n",
    "            children.append(new_state)\n",
    "        new_state = State(state.cannibal_left + 1, state.missionary_left, 'left',\n",
    "                          state.cannibal_right - 1, state.missionary_right)\n",
    "        # One cannibal crosses right to left\n",
    "        if new_state.is_valid():\n",
    "            new_state.parent = state\n",
    "            children.append(new_state)\n",
    "    return children\n",
    "\n",
    "def breadth_first_search():\n",
    "    initial_state = State(3, 3, 'left', 0, 0)\n",
    "    if initial_state.is_goal():\n",
    "        return initial_state, 0  # Return the initial state and step count 0\n",
    "    frontier = deque([(initial_state, 0)])  # Tuple (state, step_count)\n",
    "    explored = set()\n",
    "    step_count = 0\n",
    "    while frontier:\n",
    "        state, step_count = frontier.popleft()  # Extract state and step count\n",
    "        if state.is_goal():\n",
    "            return state, step_count\n",
    "        explored.add(state)\n",
    "        children = successors(state)\n",
    "        for child in children:\n",
    "            if child not in explored and (child, step_count + 1) not in frontier:\n",
    "                frontier.append((child, step_count + 1))  # Include step count\n",
    "                explored.add(child)  # Add child to explored set\n",
    "    return None, step_count  # Return None if no solution found\n",
    "\n",
    "def print_solution(solution):\n",
    "    path = []\n",
    "    while solution:\n",
    "        path.append(solution)\n",
    "        solution = solution.parent\n",
    "    for t in reversed(path):  # Print in reverse order for clarity\n",
    "        print(\"Left side:\", t.cannibal_left, \"Cannibals,\", t.missionary_left, \"Missionaries\")\n",
    "        print(\"Boat is at:\", t.boat)\n",
    "        print(\"Right side:\", t.cannibal_right, \"Cannibals,\", t.missionary_right, \"Missionaries\")\n",
    "        print()  # Empty line for separation\n",
    "\n",
    "if __name__ == \"__main__\":\n",
    "    solution, steps = breadth_first_search()\n",
    "    print(\"Solution found for BFS:\")\n",
    "    print(\"Number of steps executed:\", steps)\n",
    "    if solution:\n",
    "        print_solution(solution)\n",
    "    else:\n",
    "        print(\"No solution found within the search space.\")"
   ]
  },
  {
   "cell_type": "markdown",
   "id": "b4d556f4",
   "metadata": {},
   "source": [
    "#### DFS"
   ]
  },
  {
   "cell_type": "markdown",
   "id": "0c8bed3d",
   "metadata": {},
   "source": [
    "- Para este código se utilizó la misma metodología que para el anterior, pero esta vez implementando el algoritmo de búsqueda en profundidad."
   ]
  },
  {
   "cell_type": "code",
   "execution_count": 42,
   "id": "b86a7322",
   "metadata": {},
   "outputs": [
    {
     "name": "stdout",
     "output_type": "stream",
     "text": [
      "Solution found for DFS:\n",
      "Steps executed: 17\n",
      "Left Bank: 3 missionaries, 3 cannibals | Right Bank: 0 missionaries, 0 cannibals | Boat: Left\n",
      "Left Bank: 2 missionaries, 2 cannibals | Right Bank: 1 missionaries, 1 cannibals | Boat: Right\n",
      "Left Bank: 3 missionaries, 2 cannibals | Right Bank: 0 missionaries, 1 cannibals | Boat: Left\n",
      "Left Bank: 3 missionaries, 0 cannibals | Right Bank: 0 missionaries, 3 cannibals | Boat: Right\n",
      "Left Bank: 3 missionaries, 1 cannibals | Right Bank: 0 missionaries, 2 cannibals | Boat: Left\n",
      "Left Bank: 1 missionaries, 1 cannibals | Right Bank: 2 missionaries, 2 cannibals | Boat: Right\n",
      "Left Bank: 2 missionaries, 2 cannibals | Right Bank: 1 missionaries, 1 cannibals | Boat: Left\n",
      "Left Bank: 0 missionaries, 2 cannibals | Right Bank: 3 missionaries, 1 cannibals | Boat: Right\n",
      "Left Bank: 0 missionaries, 3 cannibals | Right Bank: 3 missionaries, 0 cannibals | Boat: Left\n",
      "Left Bank: 0 missionaries, 1 cannibals | Right Bank: 3 missionaries, 2 cannibals | Boat: Right\n",
      "Left Bank: 1 missionaries, 1 cannibals | Right Bank: 2 missionaries, 2 cannibals | Boat: Left\n",
      "Left Bank: 0 missionaries, 0 cannibals | Right Bank: 3 missionaries, 3 cannibals | Boat: Right\n"
     ]
    }
   ],
   "source": [
    "from collections import deque\n",
    "import time\n",
    "\n",
    "# Depth First Search Solution\n",
    "\n",
    "def is_valid_state(state):\n",
    "    left_m, left_c, boat = state\n",
    "    right_m, right_c = 3 - left_m, 3 - left_c\n",
    "\n",
    "    if left_m < 0 or left_c < 0 or right_m < 0 or right_c < 0:\n",
    "        return False\n",
    "    if left_m > 0 and left_c > left_m:\n",
    "        return False\n",
    "    if right_m > 0 and right_c > right_m:\n",
    "        return False\n",
    "    return True\n",
    "\n",
    "def generate_successors(state):\n",
    "    successors = []\n",
    "    left_m, left_c, boat = state\n",
    "    if boat == 1:  # boat is on the left bank\n",
    "        for m in range(3):\n",
    "            for c in range(3):\n",
    "                if 1 <= m + c <= 2:  # at most 2 people on the boat\n",
    "                    new_state = (left_m - m, left_c - c, 0)\n",
    "                    if is_valid_state(new_state):\n",
    "                        successors.append(new_state)\n",
    "    else:  # boat is on the right bank\n",
    "        for m in range(3):\n",
    "            for c in range(3):\n",
    "                if 1 <= m + c <= 2:  # at most 2 people on the boat\n",
    "                    new_state = (left_m + m, left_c + c, 1)\n",
    "                    if is_valid_state(new_state):\n",
    "                        successors.append(new_state)\n",
    "    return successors\n",
    "\n",
    "def dfs(start_state, goal_state):\n",
    "    visited = set()\n",
    "    stack = deque([(start_state, [])])\n",
    "    steps = 0\n",
    "\n",
    "    while stack:\n",
    "        state, path = stack.pop()\n",
    "        steps += 1\n",
    "\n",
    "        if state == goal_state:\n",
    "            return path + [state], steps\n",
    "\n",
    "        if state not in visited:\n",
    "            visited.add(state)\n",
    "            for successor in generate_successors(state):\n",
    "                stack.append((successor, path + [state]))\n",
    "\n",
    "    return None, steps\n",
    "\n",
    "def print_solution(solution):\n",
    "    if solution is None:\n",
    "        print(\"No solution found\")\n",
    "    else:\n",
    "        print(\"Solution found for DFS:\")\n",
    "        print(\"Steps executed:\", steps)\n",
    "        for state in solution:\n",
    "            left_m, left_c, boat = state\n",
    "            right_m, right_c = 3 - left_m, 3 - left_c\n",
    "            print(f\"Left Bank: {left_m} missionaries, {left_c} cannibals | Right Bank: {right_m} missionaries, {right_c} cannibals | Boat: {'Left' if boat == 1 else 'Right'}\")\n",
    "\n",
    "if __name__ == \"__main__\":\n",
    "    start_state = (3, 3, 1)\n",
    "    goal_state = (0, 0, 0)\n",
    "\n",
    "    start_time = time.time()\n",
    "    solution, steps = dfs(start_state, goal_state)\n",
    "    end_time = time.time()\n",
    "\n",
    "    print_solution(solution)"
   ]
  },
  {
   "cell_type": "markdown",
   "id": "8a7d6366",
   "metadata": {},
   "source": [
    "# Resultados"
   ]
  },
  {
   "cell_type": "markdown",
   "id": "68e4afff",
   "metadata": {},
   "source": [
    "### Plano con obstáculos poligonales"
   ]
  },
  {
   "cell_type": "markdown",
   "id": "a010c9e9",
   "metadata": {},
   "source": [
    "#### A)"
   ]
  },
  {
   "cell_type": "markdown",
   "id": "dc8c568e",
   "metadata": {},
   "source": [
    "- Dado a que estamos considerando todos los puntos en el plano (x, y), entonces debe de haber una cantidad infinita de estados y de soluciones para el problema planteado."
   ]
  },
  {
   "cell_type": "markdown",
   "id": "8a5a2164",
   "metadata": {},
   "source": [
    "#### B)"
   ]
  },
  {
   "cell_type": "markdown",
   "id": "04e5bc0a",
   "metadata": {},
   "source": [
    "- En la búsqueda de la ruta más corta entre dos puntos en un entorno con obstáculos poligonales, se sigue el principio de que la ruta óptima es una línea recta directa entre los puntos de inicio y destino. Sin embargo, cuando esta línea recta se encuentra bloqueada por obstáculos, se requiere encontrar una secuencia de líneas rectas que conecten los puntos de manera eficiente, evitando los obstáculos."
   ]
  },
  {
   "cell_type": "markdown",
   "id": "4eaed816",
   "metadata": {},
   "source": [
    "#### C y D)"
   ]
  },
  {
   "cell_type": "markdown",
   "id": "e2b5a670",
   "metadata": {},
   "source": [
    "- Contestadas en la configuración del experimento."
   ]
  },
  {
   "cell_type": "markdown",
   "id": "526b47ac",
   "metadata": {},
   "source": [
    "#### Análisis"
   ]
  },
  {
   "cell_type": "markdown",
   "id": "9d802826",
   "metadata": {},
   "source": [
    "- Los resultados obtenidos de los códigos y sus ilustraciones correspondientes muestran claramente que el algoritmo \"Hill Climbing\" no logra alcanzar el estado final en ninguno de los entornos evaluados. Esto se debe a que el algoritmo tiende a colisionar casi de inmediato con un obstáculo, lo que resulta en la terminación prematura de su ejecución.\n",
    "\n",
    "- Por otro lado, tanto los algoritmos A* como BFS lograron alcanzar con éxito el objetivo en ambos casos. Sin embargo, se observa una diferencia significativa en el tiempo de ejecución entre ellos. Específicamente, el algoritmo A* logra completar la tarea en un tiempo menor en comparación con BFS para ambos casos.\n",
    "\n",
    "- Es importante destacar que, aunque la diferencia en tiempo de ejecución entre A* y BFS es mínima para el segundo entorno, donde el entorno es más pequeño, la disparidad es más notable en el primer entorno. Esto se debe a que el primer entorno presenta una mayor cantidad de puntos de estado, lo que resulta en una diferencia de tiempo más significativa. En este caso, BFS tomó aproximadamente 33 segundos en comparación con los 2 segundos que tomó A*. Esto resalta que mientras más grande sea el entorno, mayor va a ser el tiempo de ejecución de BFS.\n",
    "\n",
    "- Estos hallazgos sugieren que, en general, el algoritmo A* es más eficiente en términos de tiempo de ejecución en comparación con BFS, especialmente en entornos más grandes con una mayor cantidad de puntos de estado."
   ]
  },
  {
   "cell_type": "markdown",
   "id": "d2944f02",
   "metadata": {},
   "source": [
    "### Misioneros y caníbales"
   ]
  },
  {
   "cell_type": "markdown",
   "id": "9f914834",
   "metadata": {},
   "source": [
    "#### A)"
   ]
  },
  {
   "cell_type": "markdown",
   "id": "e074936d",
   "metadata": {},
   "source": [
    "- El estado inicial del problema implica la presencia de tres misioneros y tres caníbales en un lado del río. Disponen de un bote con capacidad para dos personas y el objetivo es llevar a todos al otro lado del río, asegurándose de que en ningún momento haya más caníbales que misioneros en cualquiera de los lados del río. Cada estado del problema se representa en el formato (M C B M C), donde las letras \"M\" y \"C\" a la izquierda indican la cantidad de misioneros y caníbales en el lado inicial del río, respectivamente, mientras que las letras \"M\" y \"C\" a la derecha representan la cantidad de misioneros y caníbales en el lado opuesto del río, respectivamente. Por su parte, la letra \"B\" indica la posición en la que se encuentra el bote. Se utiliza la letra \"L\" para representar el lado izquierdo del río (posición inicial) y la letra \"R\" para representar el lado derecho del río. Adicional a esto, las flechas apuntando al siguiente estado contienen las letras de las personas que se mueven en el bote."
   ]
  },
  {
   "attachments": {
    "PHOTO-2024-04-01-01-07-13.jpg": {
     "image/jpeg": "[encoded data removed]"
    }
   },
   "cell_type": "markdown",
   "id": "2ab1f669",
   "metadata": {},
   "source": [
    "![PHOTO-2024-04-01-01-07-13.jpg](attachment:PHOTO-2024-04-01-01-07-13.jpg)"
   ]
  },
  {
   "cell_type": "markdown",
   "id": "f786371a",
   "metadata": {},
   "source": [
    "#### B)"
   ]
  },
  {
   "cell_type": "markdown",
   "id": "1306dc80",
   "metadata": {},
   "source": [
    "- En este diagrama, el estado inicial está representado con el color verde y el estado final con el color azul. Adicional a esto, hay dos estados con color amarillo, los cuales son estados posibles dentro de las reglas impuestas por el ejercicio, pero no llevan a ningún lado dado a que el único movimiento legal que pueden realizar es regresar al estado anterior. Por tal motivo se muestra el estado completo del ejercicio. Por su parte el diagrama muestra los cambios de estados necesarios para poder alcanzar el estado final deseado y concuerda con los resultados obtenidos por el código."
   ]
  },
  {
   "cell_type": "markdown",
   "id": "903b9953",
   "metadata": {},
   "source": [
    "#### C)"
   ]
  },
  {
   "cell_type": "markdown",
   "id": "19b98d77",
   "metadata": {},
   "source": [
    "- Los códigos provistos anteriormente verifica si los estados han sido visitados anteriormente para evitar ejecutarlos repetidamente. Esto es una buena práctica dado a que se utiliza para asegurar que el código no entre en un bucle infinito repitiendo acciones previas."
   ]
  },
  {
   "cell_type": "markdown",
   "id": "37b294ad",
   "metadata": {},
   "source": [
    "#### D)"
   ]
  },
  {
   "cell_type": "markdown",
   "id": "f8bcb3ca",
   "metadata": {},
   "source": [
    "- A pesar de que el espacio de estados es simple, las personas pueden enfrentar dificultades al intentar resolverlo debido al enunciado. Al encontrarse en el estado inicial, es probable que las personas sobreanalicen la solución y realicen movimientos innecesarios que los devuelvan a estados previos. Aunque no caigan en un bucle infinito, podrían dar más pasos de los necesarios para alcanzar el estado final al repetir movimientos anteriores."
   ]
  },
  {
   "cell_type": "markdown",
   "id": "6696aa6f",
   "metadata": {},
   "source": [
    "#### Análisis"
   ]
  },
  {
   "cell_type": "markdown",
   "id": "30474046",
   "metadata": {},
   "source": [
    "- En la comparación entre los algoritmos de búsqueda en anchura (BFS) y en profundidad (DFS), se observa que BFS tiende a encontrar la solución óptima en menos pasos que DFS. Esto se debe a que BFS explora todos los nodos a una profundidad determinada antes de pasar a la siguiente profundidad, lo que garantiza que encuentre la solución más corta en términos de pasos. Por otro lado, DFS puede encontrar una solución más rápidamente si esta se encuentra en una rama más profunda del árbol de búsqueda, pero no garantiza que sea la solución óptima en términos de pasos."
   ]
  },
  {
   "cell_type": "markdown",
   "id": "7cd7018d",
   "metadata": {},
   "source": [
    "# Conclusión"
   ]
  },
  {
   "cell_type": "markdown",
   "id": "5cece1e6",
   "metadata": {},
   "source": [
    "- En resumen, al comparar los algoritmos de búsqueda en anchura (BFS) y en profundidad (DFS), se evidencia que BFS suele encontrar la solución óptima en menos pasos que DFS. Esto se debe a que BFS explora todos los nodos a una profundidad determinada antes de avanzar, asegurando así la ruta más corta en términos de pasos. Por otro lado, DFS puede ser más rápido si la solución está en una rama más profunda, pero no garantiza la optimización en términos de pasos.\n",
    "\n",
    "- Además, al contrastar A* y BFS, se observa que A* destaca por su eficiencia en el tiempo de ejecución, especialmente en entornos amplios con muchos puntos de estado. Aunque BFS logra encontrar la solución en ambos casos, su tiempo de ejecución es considerablemente mayor que el de A*.\n",
    "\n",
    "- Adicional a esto, la búsqueda de estados impacta la ejecución de los algoritmos dado a que los hace más rápidos al no repetir acciones que fueron tomadas previamente y a su vez evita iteraciones infinitas.\n",
    "\n",
    "- En conclusión, la selección del algoritmo adecuado depende de diversos factores como la estructura del entorno y la prioridad de encontrar la solución óptima en términos de pasos o de tiempo. En general, A* sobresale por su rapidez, mientras que BFS asegura la solución más breve en términos de pasos. DFS puede ser útil cuando el tiempo es crítico y la solución óptima no es prioritaria."
   ]
  },
  {
   "cell_type": "markdown",
   "id": "1eb59c3d",
   "metadata": {},
   "source": [
    "# Distribución de trabajo"
   ]
  },
  {
   "cell_type": "markdown",
   "id": "5de60194",
   "metadata": {},
   "source": [
    "- Jiovaniel Soto - Redacción de informe y elaboración del ejercicio de los planos con obstáculos geométricos. Ayudó con la ideología del ejercicio de misioneros vs. caníbales y analizó resultados.\n",
    "\n",
    "- Juan Fontánez - Redacción de la presentación para el video y elaboración del ejercicio de misioneros vs caníbales. Ayudó con la ideología del ejercicio de los planos con obstáculos geométricos y analizó resultados.\n",
    "\n",
    "- Emmanuel Morales - Brindó información para las respuestas teóricas del problema de misioneros vs caníbales y brindó infromación para el contexto de la conclusión."
   ]
  },
  {
   "cell_type": "markdown",
   "id": "446364f2",
   "metadata": {},
   "source": [
    "# Referencias"
   ]
  },
  {
   "cell_type": "markdown",
   "id": "9b9b5e99",
   "metadata": {},
   "source": [
    "- [1] “DFS vs BFS,” Encora. https://www.encora.com/es/blog/dfs-vs-bfs\n",
    "- [2]“Algoritmo A estrellas (A*),” Tecnologia educativa UNAN - NANAGUA, Jun. 13, 2019. https://aeia.home.blog/algoritmo-a-estrellas-a/\n",
    "- [3] “2.3.1 Hill-Climbing,” ccc.inaoep.mx. \n",
    "https://ccc.inaoep.mx/~emorales/Cursos/Busqueda/node23.html#:~:text=Hill%2Dclimbing%20es%20una%20estrategia\n",
    "- [4] “Punto | Aprendiendo sobre Geometría Descriptiva en el arte,” www.iered.org. http://www.iered.org/archivos/Proyecto_coKREA/REAfinales2014/GeometriaDescriptivaArte_LadyCastro/punto.html#:~:text=El%20punto%20es%20una%20figura\n",
    "- [5] “Vértice,” Economipedia. https://economipedia.com/definiciones/vertice.html\n",
    "- [6]“Significado de Plano,” Significados. https://www.significados.com/plano/\n",
    "- [7]“Polígono - Concepto, nombres, elementos, tipos y medidas,” Concepto. https://concepto.de/poligono/\n",
    "- [8] “Definición de línea recta — Definicion.de,” Definición.de. https://definicion.de/linea-recta/\n",
    "- [9] Berkeley.edu, 2024. https://aima.cs.berkeley.edu/lisp/search/domains/cannibals.lisp\n",
    "- [10] “The Missionaries and Cannibals Problem,” www.aiai.ed.ac.uk. https://www.aiai.ed.ac.uk/~gwickler/missionaries.html"
   ]
  }
 ],
 "metadata": {
  "kernelspec": {
   "display_name": "Python 3 (ipykernel)",
   "language": "python",
   "name": "python3"
  },
  "language_info": {
   "codemirror_mode": {
    "name": "ipython",
    "version": 3
   },
   "file_extension": ".py",
   "mimetype": "text/x-python",
   "name": "python",
   "nbconvert_exporter": "python",
   "pygments_lexer": "ipython3",
   "version": "3.9.12"
  }
 },
 "nbformat": 4,
 "nbformat_minor": 5
}
