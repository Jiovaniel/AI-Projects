{
 "cells": [
  {
   "cell_type": "markdown",
   "id": "6858eec2",
   "metadata": {},
   "source": [
    "<center>\n",
    "    <h1>Algoritmos de Búsqueda</h1>\n",
    "    <center><h5>Jiovaniel O. Soto González</h5></center>\n",
    "    <center><h5>Juan C. Fontánez Castro</h5></center>\n",
    "    <center><h5>Emmanuel A. Morales Martínez</h5></center>\n",
    "</center>\n"
   ]
  },
  {
   "cell_type": "markdown",
   "id": "b17822d3",
   "metadata": {},
   "source": [
    "# Propósito"
   ]
  },
  {
   "cell_type": "markdown",
   "id": "89b47f0c",
   "metadata": {},
   "source": []
  },
  {
   "cell_type": "markdown",
   "id": "d7fe0314",
   "metadata": {},
   "source": [
    "# Hipótesis"
   ]
  },
  {
   "cell_type": "markdown",
   "id": "4f6632c7",
   "metadata": {},
   "source": []
  },
  {
   "cell_type": "markdown",
   "id": "b14b070d",
   "metadata": {},
   "source": [
    "# Conceptos e información recopilada"
   ]
  },
  {
   "cell_type": "markdown",
   "id": "bfa5663f",
   "metadata": {},
   "source": []
  },
  {
   "cell_type": "markdown",
   "id": "00fc71c8",
   "metadata": {},
   "source": [
    "# ¿Cómo se configuró el experimento?"
   ]
  },
  {
   "cell_type": "code",
   "execution_count": 8,
   "id": "2728dddd",
   "metadata": {},
   "outputs": [
    {
     "name": "stdout",
     "output_type": "stream",
     "text": [
      "Player's hand: [9, 6] (Value: 15)\n",
      "Dealer's hand: [10, ?]\n"
     ]
    },
    {
     "ename": "KeyboardInterrupt",
     "evalue": "",
     "output_type": "error",
     "traceback": [
      "\u001b[0;31m---------------------------------------------------------------------------\u001b[0m",
      "\u001b[0;31mKeyboardInterrupt\u001b[0m                         Traceback (most recent call last)",
      "Input \u001b[0;32mIn [8]\u001b[0m, in \u001b[0;36m<cell line: 145>\u001b[0;34m()\u001b[0m\n\u001b[1;32m    143\u001b[0m             \u001b[38;5;28;01mreturn\u001b[39;00m \u001b[38;5;241m0\u001b[39m\n\u001b[1;32m    144\u001b[0m game \u001b[38;5;241m=\u001b[39m Blackjack()\n\u001b[0;32m--> 145\u001b[0m \u001b[43mgame\u001b[49m\u001b[38;5;241;43m.\u001b[39;49m\u001b[43mplay_game\u001b[49m\u001b[43m(\u001b[49m\u001b[43m)\u001b[49m\n",
      "Input \u001b[0;32mIn [8]\u001b[0m, in \u001b[0;36mBlackjack.play_game\u001b[0;34m(self)\u001b[0m\n\u001b[1;32m     97\u001b[0m \u001b[38;5;28mprint\u001b[39m(\u001b[38;5;124mf\u001b[39m\u001b[38;5;124m\"\u001b[39m\u001b[38;5;124mDealer\u001b[39m\u001b[38;5;124m'\u001b[39m\u001b[38;5;124ms hand: [\u001b[39m\u001b[38;5;132;01m{\u001b[39;00mdealer_hand[\u001b[38;5;241m0\u001b[39m]\u001b[38;5;132;01m}\u001b[39;00m\u001b[38;5;124m, ?]\u001b[39m\u001b[38;5;124m\"\u001b[39m)\n\u001b[1;32m     99\u001b[0m \u001b[38;5;28;01mwhile\u001b[39;00m \u001b[38;5;28;01mTrue\u001b[39;00m:\n\u001b[0;32m--> 100\u001b[0m     decision \u001b[38;5;241m=\u001b[39m \u001b[38;5;28;43mself\u001b[39;49m\u001b[38;5;241;43m.\u001b[39;49m\u001b[43mminimax\u001b[49m\u001b[43m(\u001b[49m\u001b[43m(\u001b[49m\u001b[43mplayer_hand\u001b[49m\u001b[43m,\u001b[49m\u001b[43m \u001b[49m\u001b[43mdealer_hand\u001b[49m\u001b[43m,\u001b[49m\u001b[43m \u001b[49m\u001b[38;5;28;43;01mTrue\u001b[39;49;00m\u001b[43m,\u001b[49m\u001b[43m \u001b[49m\u001b[43mremaining_cards\u001b[49m\u001b[43m)\u001b[49m\u001b[43m,\u001b[49m\u001b[43m \u001b[49m\u001b[38;5;28;43mfloat\u001b[39;49m\u001b[43m(\u001b[49m\u001b[38;5;124;43m'\u001b[39;49m\u001b[38;5;124;43m-inf\u001b[39;49m\u001b[38;5;124;43m'\u001b[39;49m\u001b[43m)\u001b[49m\u001b[43m,\u001b[49m\u001b[43m \u001b[49m\u001b[38;5;28;43mfloat\u001b[39;49m\u001b[43m(\u001b[49m\u001b[38;5;124;43m'\u001b[39;49m\u001b[38;5;124;43minf\u001b[39;49m\u001b[38;5;124;43m'\u001b[39;49m\u001b[43m)\u001b[49m\u001b[43m,\u001b[49m\u001b[43m \u001b[49m\u001b[38;5;28;43;01mTrue\u001b[39;49;00m\u001b[43m)\u001b[49m\n\u001b[1;32m    102\u001b[0m     \u001b[38;5;28;01mif\u001b[39;00m decision \u001b[38;5;241m==\u001b[39m \u001b[38;5;124m'\u001b[39m\u001b[38;5;124mhit\u001b[39m\u001b[38;5;124m'\u001b[39m:\n\u001b[1;32m    103\u001b[0m         new_card \u001b[38;5;241m=\u001b[39m \u001b[38;5;28mself\u001b[39m\u001b[38;5;241m.\u001b[39mdraw_card()\n",
      "Input \u001b[0;32mIn [8]\u001b[0m, in \u001b[0;36mBlackjack.minimax\u001b[0;34m(self, state, alpha, beta, is_maximizing)\u001b[0m\n\u001b[1;32m     32\u001b[0m player_hand, dealer_hand, is_player_turn, remaining_cards \u001b[38;5;241m=\u001b[39m state\n\u001b[1;32m     34\u001b[0m \u001b[38;5;66;03m# Terminal state\u001b[39;00m\n\u001b[0;32m---> 35\u001b[0m \u001b[38;5;28;01mif\u001b[39;00m \u001b[38;5;28;43mself\u001b[39;49m\u001b[38;5;241;43m.\u001b[39;49m\u001b[43mevaluate_hand\u001b[49m\u001b[43m(\u001b[49m\u001b[43mplayer_hand\u001b[49m\u001b[43m)\u001b[49m \u001b[38;5;241m>\u001b[39m \u001b[38;5;241m21\u001b[39m:\n\u001b[1;32m     36\u001b[0m     \u001b[38;5;28;01mreturn\u001b[39;00m \u001b[38;5;241m-\u001b[39m\u001b[38;5;241m1\u001b[39m\n\u001b[1;32m     37\u001b[0m \u001b[38;5;28;01melif\u001b[39;00m \u001b[38;5;129;01mnot\u001b[39;00m is_player_turn:\n",
      "Input \u001b[0;32mIn [8]\u001b[0m, in \u001b[0;36mBlackjack.evaluate_hand\u001b[0;34m(self, hand)\u001b[0m\n\u001b[1;32m     20\u001b[0m \u001b[38;5;28;01mdef\u001b[39;00m \u001b[38;5;21mevaluate_hand\u001b[39m(\u001b[38;5;28mself\u001b[39m, hand):\n\u001b[1;32m     21\u001b[0m     \u001b[38;5;124;03m\"\"\"Evaluate the value of a Blackjack hand.\"\"\"\u001b[39;00m\n\u001b[0;32m---> 22\u001b[0m     value \u001b[38;5;241m=\u001b[39m \u001b[38;5;28;43msum\u001b[39;49m\u001b[43m(\u001b[49m\u001b[43mhand\u001b[49m\u001b[43m)\u001b[49m\n\u001b[1;32m     23\u001b[0m     num_aces \u001b[38;5;241m=\u001b[39m hand\u001b[38;5;241m.\u001b[39mcount(\u001b[38;5;241m1\u001b[39m)\n\u001b[1;32m     25\u001b[0m     \u001b[38;5;28;01mwhile\u001b[39;00m value \u001b[38;5;241m<\u001b[39m\u001b[38;5;241m=\u001b[39m \u001b[38;5;241m11\u001b[39m \u001b[38;5;129;01mand\u001b[39;00m num_aces \u001b[38;5;241m>\u001b[39m \u001b[38;5;241m0\u001b[39m:\n",
      "\u001b[0;31mKeyboardInterrupt\u001b[0m: "
     ]
    }
   ],
   "source": [
    "import random\n",
    "\n",
    "class Blackjack:\n",
    "    def __init__(self):\n",
    "        self.deck = self.create_deck()\n",
    "        self.shuffle_deck()\n",
    "    \n",
    "    def create_deck(self):\n",
    "        \"\"\"Create a standard deck of 52 cards.\"\"\"\n",
    "        return [2, 3, 4, 5, 6, 7, 8, 9, 10, 10, 10, 10, 1] * 4\n",
    "    \n",
    "    def shuffle_deck(self):\n",
    "        \"\"\"Shuffle the deck.\"\"\"\n",
    "        random.shuffle(self.deck)\n",
    "    \n",
    "    def draw_card(self):\n",
    "        \"\"\"Draw a card from the deck.\"\"\"\n",
    "        return self.deck.pop()\n",
    "    \n",
    "    def evaluate_hand(self, hand):\n",
    "        \"\"\"Evaluate the value of a Blackjack hand.\"\"\"\n",
    "        value = sum(hand)\n",
    "        num_aces = hand.count(1)\n",
    "        \n",
    "        while value <= 11 and num_aces > 0:\n",
    "            value += 10\n",
    "            num_aces -= 1\n",
    "        \n",
    "        return value\n",
    "\n",
    "    def minimax(self, state, alpha, beta, is_maximizing):\n",
    "        player_hand, dealer_hand, is_player_turn, remaining_cards = state\n",
    "        \n",
    "        # Terminal state\n",
    "        if self.evaluate_hand(player_hand) > 21:\n",
    "            return -1\n",
    "        elif not is_player_turn:\n",
    "            dealer_value = self.evaluate_hand(dealer_hand)\n",
    "            \n",
    "            while dealer_value < 17:\n",
    "                new_card = self.draw_card()\n",
    "                dealer_hand.append(new_card)\n",
    "                dealer_value = self.evaluate_hand(dealer_hand)\n",
    "            \n",
    "            if dealer_value > 21 or dealer_value < self.evaluate_hand(player_hand):\n",
    "                return 1\n",
    "            elif dealer_value > self.evaluate_hand(player_hand):\n",
    "                return -1\n",
    "            else:\n",
    "                return 0\n",
    "        \n",
    "        # Recursive case\n",
    "        if is_maximizing:\n",
    "            best_value = float('-inf')\n",
    "            for action in ['hit', 'stand']:\n",
    "                new_state = self.apply_action(state, action)\n",
    "                value = self.minimax(new_state, alpha, beta, False)\n",
    "                best_value = max(best_value, value)\n",
    "                alpha = max(alpha, best_value)\n",
    "                \n",
    "                if beta <= alpha:\n",
    "                    break\n",
    "            \n",
    "            return best_value\n",
    "        else:\n",
    "            best_value = float('inf')\n",
    "            for action in ['hit', 'stand']:\n",
    "                new_state = self.apply_action(state, action)\n",
    "                value = self.minimax(new_state, alpha, beta, True)\n",
    "                best_value = min(best_value, value)\n",
    "                beta = min(beta, best_value)\n",
    "                \n",
    "                if beta <= alpha:\n",
    "                    break\n",
    "            \n",
    "            return best_value\n",
    "    \n",
    "    def apply_action(self, state, action):\n",
    "        \"\"\"Apply an action to the current state.\"\"\"\n",
    "        player_hand, dealer_hand, is_player_turn, remaining_cards = state\n",
    "        \n",
    "        if action == 'hit':\n",
    "            new_card = self.draw_card()\n",
    "            player_hand.append(new_card)\n",
    "            remaining_cards.remove(new_card)\n",
    "            return (player_hand, dealer_hand, is_player_turn, remaining_cards)\n",
    "        elif action == 'stand':\n",
    "            return (player_hand, dealer_hand, not is_player_turn, remaining_cards)\n",
    "\n",
    "    def play_game(self):\n",
    "        \"\"\"Play a game of Blackjack.\"\"\"\n",
    "        player_hand = [self.draw_card(), self.draw_card()]\n",
    "        dealer_hand = [self.draw_card()]\n",
    "        remaining_cards = self.deck.copy()\n",
    "        \n",
    "        print(f\"Player's hand: {player_hand} (Value: {self.evaluate_hand(player_hand)})\")\n",
    "        print(f\"Dealer's hand: [{dealer_hand[0]}, ?]\")\n",
    "        \n",
    "        while True:\n",
    "            decision = self.minimax((player_hand, dealer_hand, True, remaining_cards), float('-inf'), float('inf'), True)\n",
    "            \n",
    "            if decision == 'hit':\n",
    "                new_card = self.draw_card()\n",
    "                player_hand.append(new_card)\n",
    "                remaining_cards.remove(new_card)\n",
    "                print(f\"New card: {new_card}.\")\n",
    "                print(f\"Player's hand: {player_hand} (Value: {self.evaluate_hand(player_hand)})\")\n",
    "                \n",
    "                if self.evaluate_hand(player_hand) > 21:\n",
    "                    print(\"Player busts. Dealer wins!\")\n",
    "                    return -1\n",
    "            elif decision == 'stand':\n",
    "                break\n",
    "        \n",
    "        while True:\n",
    "            dealer_value = self.evaluate_hand(dealer_hand)\n",
    "            print(f\"Dealer's hand: {dealer_hand} (Value: {dealer_value})\")\n",
    "            \n",
    "            if dealer_value < 17:\n",
    "                new_card = self.draw_card()\n",
    "                dealer_hand.append(new_card)\n",
    "                print(f\"Dealer hits. New card: {new_card}.\")\n",
    "                \n",
    "                if self.evaluate_hand(dealer_hand) > 21:\n",
    "                    print(\"Dealer busts. Player wins!\")\n",
    "                    return 1\n",
    "            else:\n",
    "                print(\"Dealer stands.\")\n",
    "                break\n",
    "        \n",
    "        # Determine the winner\n",
    "        player_value = self.evaluate_hand(player_hand)\n",
    "        dealer_value = self.evaluate_hand(dealer_hand)\n",
    "        \n",
    "        if player_value > dealer_value:\n",
    "            print(\"Player wins!\")\n",
    "            return 1\n",
    "        elif player_value < dealer_value:\n",
    "            print(\"Dealer wins!\")\n",
    "            return -1\n",
    "        else:\n",
    "            print(\"It's a draw!\")\n",
    "            return 0\n",
    "game = Blackjack()\n",
    "game.play_game()\n"
   ]
  },
  {
   "cell_type": "markdown",
   "id": "97457db6",
   "metadata": {},
   "source": [
    "# Resultados"
   ]
  },
  {
   "cell_type": "markdown",
   "id": "cae4ecfa",
   "metadata": {},
   "source": [
    "# Conclusión"
   ]
  },
  {
   "cell_type": "markdown",
   "id": "1eb59c3d",
   "metadata": {},
   "source": [
    "# Distribución de trabajo"
   ]
  },
  {
   "cell_type": "markdown",
   "id": "0646c356",
   "metadata": {},
   "source": [
    "- Jiovaniel Soto - \n",
    "\n",
    "- Juan Fontánez - \n",
    "\n",
    "- Emmanuel Morales - \n",
    "\n",
    "- **Todos los estudiantes se reunieron para discutir el análisis de los resultados.**"
   ]
  },
  {
   "cell_type": "markdown",
   "id": "446364f2",
   "metadata": {},
   "source": [
    "# Referencias"
   ]
  },
  {
   "cell_type": "markdown",
   "id": "9b9b5e99",
   "metadata": {},
   "source": [
    "- [1] “Introduction to Hill Climbing | Artificial Intelligence,” GeeksforGeeks, Dec. 12, 2017. https://www.geeksforgeeks.org/introduction-hill-climbing-artificial-intelligence/\n",
    "- [2] “Random-restart hill climbing - Academic Kids,” academickids.com. https://academickids.com/encyclopedia/index.php/Random-restart_hill_climbing (accessed Apr. 08, 2024).\n",
    "- [3] D. L. Poole and A. K. Mackworth, “4.7.5 Random Restart,” Artificial Intelligence 2E, https://artint.info/2e/html2e/ArtInt2e.Ch4.S7.SS5.html (accessed Apr. 4, 2024).\n"
   ]
  }
 ],
 "metadata": {
  "kernelspec": {
   "display_name": "Python 3 (ipykernel)",
   "language": "python",
   "name": "python3"
  },
  "language_info": {
   "codemirror_mode": {
    "name": "ipython",
    "version": 3
   },
   "file_extension": ".py",
   "mimetype": "text/x-python",
   "name": "python",
   "nbconvert_exporter": "python",
   "pygments_lexer": "ipython3",
   "version": "3.9.12"
  }
 },
 "nbformat": 4,
 "nbformat_minor": 5
}
